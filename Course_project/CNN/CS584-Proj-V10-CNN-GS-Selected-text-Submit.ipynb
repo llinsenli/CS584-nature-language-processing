{
 "cells": [
  {
   "cell_type": "markdown",
   "metadata": {
    "ExecuteTime": {
     "end_time": "2020-05-05T07:52:49.232581Z",
     "start_time": "2020-05-05T07:52:49.229593Z"
    }
   },
   "source": [
    "# CNN + Grid-Search"
   ]
  },
  {
   "cell_type": "markdown",
   "metadata": {
    "ExecuteTime": {
     "end_time": "2020-05-10T06:10:21.585069Z",
     "start_time": "2020-05-10T06:10:21.577035Z"
    }
   },
   "source": [
    "# <font color = red> Road Map </font>\n",
    "1. Preprocessing+EDA  --> Hyper paras\n",
    "2. Tokenizer+Generate samples\n",
    "3. Define CNN model         \n",
    "4. Grid-Search for paras as follow:\n",
    "        EMB =[30,50,100,150,200,300]\n",
    "        NF =[16,24,32]\n",
    "        FS = [(2,3,4,5),(1,2,3,4,5),(2,3,4,5,6), (1,2,3,4,5,6), (1,3,5,7),(2,4,6,8)]\n",
    "        MDL= [MAX_DOC_LEN]\n",
    "        MNW= [MAX_NB_WORDS]\n",
    "\n",
    "        # EMBEDDING_DIM=200\n",
    "        # CBOW_W2V = processor.w2v_pretrain(EMBEDDING_DIM) # 需要train, 比较慢\n",
    "        # Glove_W2V = processor.load_glove_w2v(EMBEDDING_DIM) # 需要下载, 比较慢\n",
    "        # PWV = [(CBOW_W2V),(Glove_W2V),(None)]\n",
    "\n",
    "        PWV = [None]\n",
    "        trainable_switch = [True]\n",
    "\n",
    "        sgd = optimizers.SGD(lr=0.01, decay=1e-6, momentum=0.9, nesterov=True)\n",
    "        adam = optimizers.Adam(lr=1e-4)\n",
    "        rmsprop = optimizers.RMSprop(lr=1e-4)\n",
    "        optimizer = [sgd, 'SGD', rmsprop, 'RMSprop', 'Adagrad', 'Adadelta', adam, 'Adam', 'Adamax', 'Nadam']\n",
    "\n",
    "5. Grid-Search Step by step\n",
    "6. Evaluation\n",
    "    - Accuracy"
   ]
  },
  {
   "cell_type": "markdown",
   "metadata": {},
   "source": [
    "# import package"
   ]
  },
  {
   "cell_type": "markdown",
   "metadata": {},
   "source": [
    "## Google colab"
   ]
  },
  {
   "cell_type": "code",
   "execution_count": 2,
   "metadata": {
    "ExecuteTime": {
     "end_time": "2020-05-10T06:16:18.318979Z",
     "start_time": "2020-05-10T06:16:18.316978Z"
    }
   },
   "outputs": [],
   "source": [
    "# !pip install tensorflow_gpu==1.15.0 \n",
    "# !pip install nltk\n",
    "\n",
    "\n",
    "# import os\n",
    "# from google.colab import drive\n",
    "# drive.mount('/content/drive')\n",
    "\n",
    "\n",
    "# # import tensorflow.compat.v1 as tf\n",
    "# # tf.disable_v2_behavior() \n",
    "\n",
    "import sys\n",
    "# pypath = \"/content/drive/My Drive/Colab Notebooks/CS584-Proj-improving/dataset\"# Colab path\n",
    "# sys.path.append(pypath)\n"
   ]
  },
  {
   "cell_type": "code",
   "execution_count": 3,
   "metadata": {
    "ExecuteTime": {
     "end_time": "2020-05-10T06:16:25.277054Z",
     "start_time": "2020-05-10T06:16:22.271650Z"
    }
   },
   "outputs": [],
   "source": [
    "from collections import Counter, defaultdict\n",
    "from gensim.models import word2vec\n",
    "# from IPython.core.interactiveshell import InteractiveShell\n",
    "from tensorflow.keras import backend as K\n",
    "from tensorflow.keras import layers\n",
    "from tensorflow.keras import models\n",
    "from tensorflow.keras import optimizers\n",
    "from tensorflow.keras import regularizers\n",
    "from tensorflow.keras.callbacks import LambdaCallback\n",
    "from tensorflow.keras.callbacks import ModelCheckpoint\n",
    "from tensorflow.keras.constraints import MaxNorm\n",
    "from tensorflow.keras.layers import Input, Dense, Activation, Embedding, Dropout, TimeDistributed\n",
    "from tensorflow.keras.layers import Embedding, Dense, Conv1D, MaxPooling1D, Dropout, Activation, Input, Flatten, Concatenate, Lambda\n",
    "from tensorflow.keras.layers import SimpleRNN, GRU, Bidirectional, LSTM\n",
    "from tensorflow.keras.models import Sequential, Model\n",
    "from tensorflow.keras.preprocessing import sequence\n",
    "from tensorflow.keras.preprocessing.sequence import pad_sequences\n",
    "from tensorflow.keras.preprocessing.text import Tokenizer\n",
    "from tensorflow.keras.regularizers import l2\n",
    "from tensorflow.keras.utils import plot_model\n",
    "from tensorflow.keras.utils import to_categorical\n",
    "from matplotlib import pyplot as plt\n",
    "from nltk import bigrams, trigrams, ngrams\n",
    "from nltk.corpus import reuters, stopwords\n",
    "from sklearn import preprocessing\n",
    "# from tensorflow.keras.utils.vis_utils import model_to_dot, plot_model\n",
    "from IPython.display import SVG\n",
    "from numpy.random import seed\n",
    "from sklearn.metrics import classification_report\n",
    "from sklearn.metrics import precision_recall_fscore_support\n",
    "from sklearn.metrics import roc_curve, auc, precision_recall_curve, confusion_matrix, classification_report\n",
    "from sklearn.model_selection import train_test_split\n",
    "from sklearn.utils import shuffle\n",
    "import gensim.downloader as api\n",
    "import glob\n",
    "from tensorflow import keras\n",
    "import tensorflow.keras.backend as K\n",
    "import matplotlib.pyplot as plt\n",
    "import nltk, string\n",
    "import numpy as np\n",
    "import pandas as pd\n",
    "import random\n",
    "import re\n",
    "import seaborn as sns\n",
    "import string, os\n",
    "import tensorflow as tf\n",
    "import warnings\n",
    "# InteractiveShell.ast_node_interactivity = \"all\"\n",
    "# warnings.filterwarnings(\"ignore\")\n",
    "\n",
    "import pandas as pd\n",
    "import matplotlib.pyplot as plt\n",
    "import numpy as np\n",
    "import seaborn as sns\n",
    "from sklearn.model_selection import GridSearchCV\n",
    "from sklearn.pipeline import Pipeline\n",
    "from sklearn.metrics import accuracy_score\n",
    "from sklearn.metrics import make_scorer\n",
    "from tensorflow.keras.wrappers.scikit_learn import KerasClassifier\n",
    "\n",
    "from myutils_V3 import eda_MAX_NB_WORDS, eda_MAX_DOC_LEN, text_preprocessor, cnn_model\n",
    "from tensorflow.keras.callbacks import EarlyStopping, ModelCheckpoint\n",
    "\n",
    "# tf.compat.v1.enable_eager_execution(config=None, device_policy=None, execution_mode=None)\n",
    "tf.compat.v1.logging.set_verbosity(tf.compat.v1.logging.ERROR)  # 关掉warning信息\n",
    "import os"
   ]
  },
  {
   "cell_type": "code",
   "execution_count": 11,
   "metadata": {
    "ExecuteTime": {
     "end_time": "2020-05-10T06:16:53.851792Z",
     "start_time": "2020-05-10T06:16:53.847790Z"
    }
   },
   "outputs": [],
   "source": [
    "char_level_switch = False\n",
    "symbols = ['nlpstart', 'nlpend' ]\n",
    "MAX_NB_WORDS_ratio = 0.90\n",
    "MAX_DOC_LEN_ratio = 0.95\n",
    "nsamples=100000\n",
    "test_ratio = 0.1\n",
    "set_random=2\n",
    "\n",
    "input_col = 'normalized_selected_text'\n",
    "# input_col = 'normalized_text'\n",
    "target_col = 'sentiment'\n",
    "\n",
    "\n",
    "### load dataset\n",
    "path =  \"E:/OneDrive - stevens.edu/Stevens BIA/CS584/Proj/\"\n",
    "# path = \"/content/drive/My Drive/Colab Notebooks/CS584-Proj-improving/dataset\"# Colab path\n",
    "# path =  \"/Users/wy/OneDrive - stevens.edu/Stevens BIA/CS584/HW4/\n",
    "\n",
    "\n",
    "### Save the result\n",
    "saving_path = \"./training/\"\n",
    "file_name = saving_path+'CNN_GS_V1' + input_col\n",
    "if not os.path.exists(saving_path):\n",
    "    os.mkdir(saving_path)"
   ]
  },
  {
   "cell_type": "markdown",
   "metadata": {},
   "source": [
    "# Exploratory Data Analysis (EDA)\n",
    "- Load target Dataset"
   ]
  },
  {
   "cell_type": "code",
   "execution_count": 12,
   "metadata": {
    "ExecuteTime": {
     "end_time": "2020-05-10T06:16:54.244076Z",
     "start_time": "2020-05-10T06:16:54.239075Z"
    },
    "colab": {},
    "colab_type": "code",
    "id": "JKAq9oFHIWGK"
   },
   "outputs": [
    {
     "name": "stdout",
     "output_type": "stream",
     "text": [
      "Wall time: 0 ns\n"
     ]
    }
   ],
   "source": [
    "%%time\n",
    "wd = path+'dataset/data/'\n",
    "# wd = \"/kaggle/input/tweet-sentiment-extraction/\"\n",
    "filename = ['train.csv','test.csv']"
   ]
  },
  {
   "cell_type": "code",
   "execution_count": 13,
   "metadata": {
    "ExecuteTime": {
     "end_time": "2020-05-10T06:16:54.494895Z",
     "start_time": "2020-05-10T06:16:54.423357Z"
    }
   },
   "outputs": [],
   "source": [
    "# train = pd.read_csv(wd+filename[0]).astype(str)\n",
    "# test = pd.read_csv(wd+filename[1]).astype(str)\n",
    "dt = pd.read_csv(wd+filename[0], nrows=nsamples).astype(str)"
   ]
  },
  {
   "cell_type": "markdown",
   "metadata": {
    "ExecuteTime": {
     "end_time": "2020-05-03T19:42:10.281513Z",
     "start_time": "2020-05-03T19:42:10.277513Z"
    }
   },
   "source": [
    "## Preprocess \n",
    "- deleted symbol other than ? and !"
   ]
  },
  {
   "cell_type": "code",
   "execution_count": 14,
   "metadata": {
    "ExecuteTime": {
     "end_time": "2020-05-10T06:16:56.119081Z",
     "start_time": "2020-05-10T06:16:55.205965Z"
    },
    "scrolled": true
   },
   "outputs": [
    {
     "name": "stdout",
     "output_type": "stream",
     "text": [
      "<class 'pandas.core.frame.DataFrame'>\n",
      "Int64Index: 24737 entries, 12750 to 23720\n",
      "Data columns (total 6 columns):\n",
      " #   Column                    Non-Null Count  Dtype \n",
      "---  ------                    --------------  ----- \n",
      " 0   textID                    24737 non-null  object\n",
      " 1   text                      24737 non-null  object\n",
      " 2   selected_text             24737 non-null  object\n",
      " 3   sentiment                 24737 non-null  object\n",
      " 4   normalized_text           24737 non-null  object\n",
      " 5   normalized_selected_text  24737 non-null  object\n",
      "dtypes: object(6)\n",
      "memory usage: 1.3+ MB\n"
     ]
    }
   ],
   "source": [
    "def normalize_string(s):\n",
    "    s = re.sub(r'(https|http)?:\\/\\/(\\w|\\.|\\/|\\?|\\=|\\&|\\%)*\\b', '', s, flags=re.MULTILINE)  # deleted website\n",
    "    s = re.sub(r'([!?])', r' \\1', s) # separate those symbols as one word\n",
    "    s = re.sub(r'[^a-zA-Z!?\\d]+', r' ', s) # keep words, !?. and number\n",
    "    s = re.sub(r'\\s+', r' ', s) # drop other special symbol /t \n",
    "    return s\n",
    "dt['normalized_text'] = [normalize_string(i) for i in dt[\"text\"]]\n",
    "dt['normalized_selected_text'] = [normalize_string(i) for i in dt[\"selected_text\"]]\n",
    "train, test = train_test_split(dt, test_size=test_ratio, shuffle=True, random_state=set_random)\n",
    "train.info()"
   ]
  },
  {
   "cell_type": "markdown",
   "metadata": {},
   "source": [
    " ## Label encoding\n"
   ]
  },
  {
   "cell_type": "code",
   "execution_count": 15,
   "metadata": {
    "ExecuteTime": {
     "end_time": "2020-05-10T06:16:56.553142Z",
     "start_time": "2020-05-10T06:16:56.479299Z"
    }
   },
   "outputs": [
    {
     "data": {
      "image/png": "[encoded data removed]",
      "text/plain": [
       "<Figure size 432x288 with 1 Axes>"
      ]
     },
     "metadata": {},
     "output_type": "display_data"
    },
    {
     "name": "stderr",
     "output_type": "stream",
     "text": [
      "C:\\Users\\Administrator\\Anaconda3\\envs\\py810\\lib\\site-packages\\pandas\\core\\generic.py:6666: SettingWithCopyWarning: \n",
      "A value is trying to be set on a copy of a slice from a DataFrame.\n",
      "Try using .loc[row_indexer,col_indexer] = value instead\n",
      "\n",
      "See the caveats in the documentation: https://pandas.pydata.org/pandas-docs/stable/user_guide/indexing.html#returning-a-view-versus-a-copy\n",
      "  regex=regex,\n"
     ]
    }
   ],
   "source": [
    "# Show the precentage = Balance dataset\n",
    "nums = train['sentiment'].value_counts().values\n",
    "labels = train['sentiment'].value_counts().keys()\n",
    "plt.pie(x = nums, labels=labels,autopct='%1.1f%%')\n",
    "plt.show()\n",
    "\n",
    "replace_map = {'sentiment': {'neutral': 1, 'positive': 0, 'negative': 2}}\n",
    "train.replace(replace_map, inplace=True)\n",
    "test.replace(replace_map, inplace=True)"
   ]
  },
  {
   "cell_type": "markdown",
   "metadata": {},
   "source": [
    "## Hyper pars"
   ]
  },
  {
   "cell_type": "code",
   "execution_count": 16,
   "metadata": {
    "ExecuteTime": {
     "end_time": "2020-05-10T06:16:59.102419Z",
     "start_time": "2020-05-10T06:16:57.526340Z"
    },
    "scrolled": true
   },
   "outputs": [
    {
     "data": {
      "image/png": "[encoded data removed]",
      "text/plain": [
       "<Figure size 1440x360 with 1 Axes>"
      ]
     },
     "metadata": {
      "needs_background": "light"
     },
     "output_type": "display_data"
    },
    {
     "data": {
      "image/png": "[encoded data removed]",
      "text/plain": [
       "<Figure size 1440x360 with 1 Axes>"
      ]
     },
     "metadata": {
      "needs_background": "light"
     },
     "output_type": "display_data"
    },
    {
     "name": "stdout",
     "output_type": "stream",
     "text": [
      "Cut index with 90.0 % of corpus:  2879 \n",
      "\n",
      "    index  word  count\n",
      "0      33     i   8157\n",
      "1      94     !   7018\n",
      "2      17    to   4824\n",
      "3      42   the   4209\n",
      "4       2     a   3237\n",
      "5      16    it   2583\n",
      "6     109   you   2582\n",
      "7      19    my   2496\n",
      "8     116   and   2158\n",
      "9     175     ?   2057\n",
      "10      8    is   1922\n",
      "11    123     s   1859\n",
      "12    157     t   1831\n",
      "13     55    in   1812\n",
      "14    100   for   1676\n",
      "15     46    of   1494\n",
      "16     48  that   1407\n",
      "17     69    me   1381\n",
      "18    120    on   1366\n",
      "19     58    so   1293\n"
     ]
    },
    {
     "data": {
      "image/png": "[encoded data removed]",
      "text/plain": [
       "<Figure size 1440x360 with 1 Axes>"
      ]
     },
     "metadata": {
      "needs_background": "light"
     },
     "output_type": "display_data"
    },
    {
     "data": {
      "image/png": "[encoded data removed]",
      "text/plain": [
       "<Figure size 1440x360 with 1 Axes>"
      ]
     },
     "metadata": {
      "needs_background": "light"
     },
     "output_type": "display_data"
    },
    {
     "name": "stdout",
     "output_type": "stream",
     "text": [
      "Cut index with 95.0 % of corpus:  23\n",
      "Wall time: 1.57 s\n"
     ]
    }
   ],
   "source": [
    "%%time\n",
    "corpus = train[input_col].astype(str).values\n",
    "MAX_NB_WORDS = eda_MAX_NB_WORDS(corpus, ratio = MAX_NB_WORDS_ratio, filters='',char_level = char_level_switch)\n",
    "MAX_DOC_LEN = eda_MAX_DOC_LEN(corpus, ratio = MAX_DOC_LEN_ratio, filters='',char_level = char_level_switch)\n",
    "\n",
    "# initialize\n",
    "processor = text_preprocessor(MAX_DOC_LEN, MAX_NB_WORDS, train[input_col])\n",
    "MAX_NB_WORDS +=1 # for padding \"0\""
   ]
  },
  {
   "cell_type": "markdown",
   "metadata": {
    "colab": {},
    "colab_type": "code",
    "id": "JKAq9oFHIWGK"
   },
   "source": [
    "# Generate Data\n",
    "- text_preprocessor Class defined in myutils\n",
    "- Pretrained Embedding\n",
    "    - PRETRAINED_WORD_VECTOR = embedding_matrix\n",
    "    - EMBEDDING_DIM = 300"
   ]
  },
  {
   "cell_type": "code",
   "execution_count": 17,
   "metadata": {
    "ExecuteTime": {
     "end_time": "2020-05-10T06:16:59.846231Z",
     "start_time": "2020-05-10T06:16:59.417510Z"
    }
   },
   "outputs": [
    {
     "name": "stdout",
     "output_type": "stream",
     "text": [
      "Shape of x_tr: (24737, 23)\n",
      "Shape of y_tr: (24737, 3)\n",
      "Shape of x_test: (2749, 23)\n",
      "Shape of y_test: (2749, 3)\n"
     ]
    }
   ],
   "source": [
    "x_train = processor.generate_seq(train[input_col])\n",
    "y_train = to_categorical(train[target_col])\n",
    "x_test = processor.generate_seq(test[input_col])\n",
    "y_test = to_categorical(test[target_col])\n",
    "print('Shape of x_tr: ' + str(x_train.shape))\n",
    "print('Shape of y_tr: ' + str(y_train.shape))\n",
    "print('Shape of x_test: ' + str(x_test.shape))\n",
    "print('Shape of y_test: ' + str(y_test.shape))"
   ]
  },
  {
   "cell_type": "markdown",
   "metadata": {},
   "source": [
    "# Define Models"
   ]
  },
  {
   "cell_type": "code",
   "execution_count": 18,
   "metadata": {
    "ExecuteTime": {
     "end_time": "2020-05-10T06:17:01.693863Z",
     "start_time": "2020-05-10T06:17:01.685860Z"
    }
   },
   "outputs": [],
   "source": [
    "def auc(y_true, y_pred):\n",
    "    auc = tf.metrics.auc(y_true, y_pred)[1]\n",
    "    K.get_session().run(tf.local_variables_initializer())\n",
    "    return auc\n",
    "\n",
    "def history_plot(training):\n",
    "    \n",
    "    ################## plot training history\n",
    "#     dic = ['val_loss', 'loss', 'val_acc', 'acc', \"val_auroc\"] # print(training.history)\n",
    "#     loss: 0.8109 - acc: 0.6362 - auroc: 0.7960 - val_loss: 0.6793 - val_acc: 0.7144 - val_auroc: 0.8684\n",
    "    dic = list(training.history.keys())\n",
    "#     idx = [[0,3],[1,4],[2,5]]\n",
    "    idx = [[0,2],[1,3]]\n",
    "    for i,j in idx:\n",
    "        print(\"========================================================================\")\n",
    "        print(dic[i],dic[j])\n",
    "        xx = list(range(1,len(training.history[dic[i]])+1))\n",
    "        plt.plot(xx,training.history[dic[i]], color = 'navy', lw = 2, label = 'Model_'+str(dic[i]))\n",
    "        plt.plot(xx,training.history[dic[j]], color = 'darkorange', lw = 2, label = 'Model_'+str(dic[j]))\n",
    "        plt.title(str(dic[i]) + \"v.s. training_\" + str(dic[j]))\n",
    "        plt.xlabel('Epochs')\n",
    "        plt.ylabel(str(dic[i]))\n",
    "        plt.legend()\n",
    "        plt.show();\n",
    "    return None"
   ]
  },
  {
   "cell_type": "code",
   "execution_count": 19,
   "metadata": {
    "ExecuteTime": {
     "end_time": "2020-05-10T06:17:02.308890Z",
     "start_time": "2020-05-10T06:17:02.301889Z"
    }
   },
   "outputs": [],
   "source": [
    "def train_model(model, x_train, y_train, x_test, y_test, BATCH_SIZE, NUM_EPOCHES, BestModel_Name=\"best_model\", patience=10 ): # Final one step\n",
    "    \n",
    "    #### Best model selection \n",
    "    BEST_MODEL_FILEPATH = BestModel_Name\n",
    "    earlyStopping = EarlyStopping(monitor='val_loss', patience=patience, verbose=1, mode='min') # patience: number of epochs with no improvement on monitor : val_loss\n",
    "    # monitoring\n",
    "    checkpoint = ModelCheckpoint(BEST_MODEL_FILEPATH, monitor='val_loss', verbose=0, save_best_only=True, mode='min')\n",
    "    history = model.fit(x_train, y_train, validation_split=0.2, batch_size=BATCH_SIZE, epochs=NUM_EPOCHES, callbacks=[earlyStopping, checkpoint], verbose=2)\n",
    "    model.load_weights(BestModel_Name)\n",
    "\n",
    "    #### classification Report\n",
    "    history_plot(history)\n",
    "    y_pred = model.predict(x_test)\n",
    "    print(classification_report(y_test, y_pred>0.5))\n",
    "    scores = model.evaluate(x_test, y_test, verbose=2)\n",
    "    print(\"%s: %.2f%%\" % (model.metrics_names[1], scores[1]*100))\n",
    "    print( \"\\n\\n\\n\")\n",
    "    return y_pred # 也许能出 tpr 和 fpr图"
   ]
  },
  {
   "cell_type": "markdown",
   "metadata": {},
   "source": [
    "## CNN framework\n",
    "- Feature Extraction: adjustable Multi-channel CNNs with different filter size\n",
    "- Classfication\n",
    "<img alt=\"cnn_base-1.png\" src=\"./cnn_base-1.png\">"
   ]
  },
  {
   "cell_type": "markdown",
   "metadata": {},
   "source": [
    "## Dense for classification\n",
    "<img src=\"./model_q2.png\" >"
   ]
  },
  {
   "cell_type": "code",
   "execution_count": 20,
   "metadata": {
    "ExecuteTime": {
     "end_time": "2020-05-10T06:17:04.267973Z",
     "start_time": "2020-05-10T06:17:04.261964Z"
    }
   },
   "outputs": [],
   "source": [
    "# define Model for classification\n",
    "def model_Create(FS, NF, EMB, MDL, MNW, PWV = None, optimizer='RMSprop', trainable_switch=True):\n",
    "    cnn_box = cnn_model(FILTER_SIZES=FS, MAX_NB_WORDS=MNW, MAX_DOC_LEN=MDL, EMBEDDING_DIM=EMB, NUM_FILTERS=NF, PRETRAINED_WORD_VECTOR=PWV, trainable_switch=trainable_switch)\n",
    "    q1_input = Input(shape=(MDL,), dtype='int32', name='q1_input') # Hyperparameters: MAX_DOC_LEN\n",
    "    encode_input1 = cnn_box(q1_input)\n",
    "    half_features = int(len(FS)*NF/2)\n",
    "    dense1 = Dense(half_features,activation='relu', name='half_features')(encode_input1)\n",
    "    drop_1 = Dropout(rate=0.4, name='dropout')(dense1)\n",
    "    pred = Dense(3,activation='softmax', name='Prediction')(drop_1)\n",
    "    \n",
    "    model = Model(inputs=q1_input, outputs=pred)    \n",
    "    model.compile(loss='categorical_crossentropy', optimizer= optimizer, metrics=['acc']) # estimator needs to provide a ``score`` function, 这里提供了准确对象\n",
    "    return model"
   ]
  },
  {
   "cell_type": "code",
   "execution_count": 21,
   "metadata": {
    "ExecuteTime": {
     "end_time": "2020-05-10T06:17:04.966536Z",
     "start_time": "2020-05-10T06:17:04.956245Z"
    }
   },
   "outputs": [
    {
     "data": {
      "text/html": [
       "<div>\n",
       "<style scoped>\n",
       "    .dataframe tbody tr th:only-of-type {\n",
       "        vertical-align: middle;\n",
       "    }\n",
       "\n",
       "    .dataframe tbody tr th {\n",
       "        vertical-align: top;\n",
       "    }\n",
       "\n",
       "    .dataframe thead th {\n",
       "        text-align: right;\n",
       "    }\n",
       "</style>\n",
       "<table border=\"1\" class=\"dataframe\">\n",
       "  <thead>\n",
       "    <tr style=\"text-align: right;\">\n",
       "      <th></th>\n",
       "      <th>textID</th>\n",
       "      <th>text</th>\n",
       "      <th>selected_text</th>\n",
       "      <th>sentiment</th>\n",
       "      <th>normalized_text</th>\n",
       "      <th>normalized_selected_text</th>\n",
       "    </tr>\n",
       "  </thead>\n",
       "  <tbody>\n",
       "    <tr>\n",
       "      <th>7723</th>\n",
       "      <td>a04c212559</td>\n",
       "      <td>My boyfriend just broke his wrist, now he migh...</td>\n",
       "      <td>nervous</td>\n",
       "      <td>2</td>\n",
       "      <td>My boyfriend just broke his wrist now he might...</td>\n",
       "      <td>nervous</td>\n",
       "    </tr>\n",
       "    <tr>\n",
       "      <th>3303</th>\n",
       "      <td>650374fc21</td>\n",
       "      <td>Yup, everything's there.</td>\n",
       "      <td>Yup, everything's there.</td>\n",
       "      <td>1</td>\n",
       "      <td>Yup everything s there</td>\n",
       "      <td>Yup everything s there</td>\n",
       "    </tr>\n",
       "    <tr>\n",
       "      <th>26959</th>\n",
       "      <td>5cc8486398</td>\n",
       "      <td>My graduation day... And i feel like a failure...</td>\n",
       "      <td>My graduation day... And i feel like a failure...</td>\n",
       "      <td>1</td>\n",
       "      <td>My graduation day And i feel like a failure</td>\n",
       "      <td>My graduation day And i feel like a failure</td>\n",
       "    </tr>\n",
       "    <tr>\n",
       "      <th>11539</th>\n",
       "      <td>b2167e666f</td>\n",
       "      <td>yo u can't love 1 twin and not the other lol</td>\n",
       "      <td>lol</td>\n",
       "      <td>0</td>\n",
       "      <td>yo u can t love 1 twin and not the other lol</td>\n",
       "      <td>lol</td>\n",
       "    </tr>\n",
       "    <tr>\n",
       "      <th>5982</th>\n",
       "      <td>d219b7f854</td>\n",
       "      <td>I'm having no luck either  Doing my nut in! W...</td>\n",
       "      <td>no luck</td>\n",
       "      <td>2</td>\n",
       "      <td>I m having no luck either Doing my nut in ! W...</td>\n",
       "      <td>no luck</td>\n",
       "    </tr>\n",
       "  </tbody>\n",
       "</table>\n",
       "</div>"
      ],
      "text/plain": [
       "           textID                                               text  \\\n",
       "7723   a04c212559  My boyfriend just broke his wrist, now he migh...   \n",
       "3303   650374fc21                           Yup, everything's there.   \n",
       "26959  5cc8486398  My graduation day... And i feel like a failure...   \n",
       "11539  b2167e666f       yo u can't love 1 twin and not the other lol   \n",
       "5982   d219b7f854   I'm having no luck either  Doing my nut in! W...   \n",
       "\n",
       "                                           selected_text  sentiment  \\\n",
       "7723                                             nervous          2   \n",
       "3303                            Yup, everything's there.          1   \n",
       "26959  My graduation day... And i feel like a failure...          1   \n",
       "11539                                                lol          0   \n",
       "5982                                             no luck          2   \n",
       "\n",
       "                                         normalized_text  \\\n",
       "7723   My boyfriend just broke his wrist now he might...   \n",
       "3303                             Yup everything s there    \n",
       "26959       My graduation day And i feel like a failure    \n",
       "11539       yo u can t love 1 twin and not the other lol   \n",
       "5982    I m having no luck either Doing my nut in ! W...   \n",
       "\n",
       "                           normalized_selected_text  \n",
       "7723                                        nervous  \n",
       "3303                        Yup everything s there   \n",
       "26959  My graduation day And i feel like a failure   \n",
       "11539                                           lol  \n",
       "5982                                        no luck  "
      ]
     },
     "execution_count": 21,
     "metadata": {},
     "output_type": "execute_result"
    }
   ],
   "source": [
    "test.head()"
   ]
  },
  {
   "cell_type": "code",
   "execution_count": 22,
   "metadata": {
    "ExecuteTime": {
     "end_time": "2020-05-10T06:17:05.546363Z",
     "start_time": "2020-05-10T06:17:05.542418Z"
    }
   },
   "outputs": [
    {
     "data": {
      "text/plain": [
       "23"
      ]
     },
     "execution_count": 22,
     "metadata": {},
     "output_type": "execute_result"
    }
   ],
   "source": [
    "MAX_DOC_LEN"
   ]
  },
  {
   "cell_type": "code",
   "execution_count": 23,
   "metadata": {
    "ExecuteTime": {
     "end_time": "2020-05-10T06:17:06.131392Z",
     "start_time": "2020-05-10T06:17:06.127390Z"
    }
   },
   "outputs": [
    {
     "data": {
      "text/plain": [
       "2880"
      ]
     },
     "execution_count": 23,
     "metadata": {},
     "output_type": "execute_result"
    }
   ],
   "source": [
    "MAX_NB_WORDS"
   ]
  },
  {
   "cell_type": "markdown",
   "metadata": {},
   "source": [
    "# 3-fold Cross validation + Grid Search + Callbacks\n",
    "- Only Earlystoping - monitoring accuracy (save max)\n",
    "- Grid Search with keras.wrappers.scikit_learn\n",
    "- <font color=red> Embedding dimension</font>"
   ]
  },
  {
   "cell_type": "code",
   "execution_count": 24,
   "metadata": {
    "ExecuteTime": {
     "end_time": "2020-05-10T06:17:08.368752Z",
     "start_time": "2020-05-10T06:17:08.365687Z"
    }
   },
   "outputs": [],
   "source": [
    "def Best_model_report(grid_result, to_file='GV_result.xlsx' ):\n",
    "    GV_result = pd.DataFrame(grid_result.cv_results_)\n",
    "    GV_result.to_excel(to_file)\n",
    "#     y_pred = grid_result.predict(x_test)\n",
    "#     y_test_one=np.argmax(y_test,axis=1)\n",
    "#     cm = confusion_matrix(y_test_one, y_pred)\n",
    "#     print('confusion matrix:\\n', cm)\n",
    "#     print('classification report:\\n', classification_report(y_test_one, y_pred))\n",
    "    return GV_result"
   ]
  },
  {
   "cell_type": "markdown",
   "metadata": {},
   "source": [
    "## Grid search parameters\n",
    "- GPU only allow one works \n",
    "- CPU can parallel\n",
    "    - numpy=1.18.1\n",
    "    - tensorflow-cpu=1.15.0\n",
    "    - keras=2.2.4\n",
    " - All keras related code should keep tensorflow.keras"
   ]
  },
  {
   "cell_type": "code",
   "execution_count": 25,
   "metadata": {
    "ExecuteTime": {
     "end_time": "2020-05-10T06:17:12.641236Z",
     "start_time": "2020-05-10T06:17:12.639236Z"
    }
   },
   "outputs": [],
   "source": [
    "batch_size = 80 # increase speed with large batch size and avoid overfit or wrong direction\n",
    "patience = 10\n",
    "epoch = 30\n",
    "n_jobs = 7"
   ]
  },
  {
   "cell_type": "markdown",
   "metadata": {},
   "source": [
    "#### ALL combination\n",
    "- The full result is not be able to retrieve. But the best result for it is printed under it"
   ]
  },
  {
   "cell_type": "code",
   "execution_count": 19,
   "metadata": {
    "scrolled": true
   },
   "outputs": [
    {
     "name": "stdout",
     "output_type": "stream",
     "text": [
      "Fitting 3 folds for each of 1080 candidates, totalling 3240 fits\n"
     ]
    },
    {
     "name": "stderr",
     "output_type": "stream",
     "text": [
      "[Parallel(n_jobs=7)]: Using backend LokyBackend with 7 concurrent workers.\n",
      "[Parallel(n_jobs=7)]: Done   4 tasks      | elapsed:  4.0min\n",
      "C:\\ProgramData\\Anaconda3\\lib\\site-packages\\joblib\\externals\\loky\\process_executor.py:706: UserWarning: A worker stopped while some jobs were given to the executor. This can be caused by a too short worker timeout or by a memory leak.\n",
      "  \"timeout or by a memory leak.\", UserWarning\n",
      "[Parallel(n_jobs=7)]: Done  58 tasks      | elapsed: 36.4min\n",
      "[Parallel(n_jobs=7)]: Done 148 tasks      | elapsed: 94.9min\n",
      "[Parallel(n_jobs=7)]: Done 274 tasks      | elapsed: 187.5min\n",
      "[Parallel(n_jobs=7)]: Done 436 tasks      | elapsed: 306.6min\n",
      "[Parallel(n_jobs=7)]: Done 634 tasks      | elapsed: 456.5min\n",
      "[Parallel(n_jobs=7)]: Done 868 tasks      | elapsed: 708.3min\n",
      "[Parallel(n_jobs=7)]: Done 1138 tasks      | elapsed: 992.5min\n",
      "[Parallel(n_jobs=7)]: Done 1444 tasks      | elapsed: 1665.0min\n",
      "[Parallel(n_jobs=7)]: Done 1786 tasks      | elapsed: 2516.5min\n",
      "[Parallel(n_jobs=7)]: Done 2164 tasks      | elapsed: 3408.3min\n",
      "[Parallel(n_jobs=7)]: Done 2578 tasks      | elapsed: 4645.6min\n",
      "[Parallel(n_jobs=7)]: Done 3028 tasks      | elapsed: 6229.2min\n",
      "[Parallel(n_jobs=7)]: Done 3240 out of 3240 | elapsed: 7038.2min finished\n"
     ]
    },
    {
     "ename": "RuntimeError",
     "evalue": "Cannot clone object <tensorflow.python.keras.wrappers.scikit_learn.KerasClassifier object at 0x000001DF8CB14908>, as the constructor either does not set or modifies parameter optimizer",
     "output_type": "error",
     "traceback": [
      "\u001b[1;31m---------------------------------------------------------------------------\u001b[0m",
      "\u001b[1;31mRuntimeError\u001b[0m                              Traceback (most recent call last)",
      "\u001b[1;32m<ipython-input-19-200a1fd11a85>\u001b[0m in \u001b[0;36m<module>\u001b[1;34m\u001b[0m\n\u001b[0;32m     28\u001b[0m \u001b[0mparam_grid\u001b[0m \u001b[1;33m=\u001b[0m\u001b[0mdict\u001b[0m\u001b[1;33m(\u001b[0m\u001b[0mEMB\u001b[0m\u001b[1;33m=\u001b[0m\u001b[0mEMB\u001b[0m\u001b[1;33m,\u001b[0m \u001b[0mNF\u001b[0m\u001b[1;33m=\u001b[0m\u001b[0mNF\u001b[0m\u001b[1;33m,\u001b[0m \u001b[0mFS\u001b[0m\u001b[1;33m=\u001b[0m\u001b[0mFS\u001b[0m\u001b[1;33m,\u001b[0m \u001b[0mMDL\u001b[0m\u001b[1;33m=\u001b[0m\u001b[0mMDL\u001b[0m\u001b[1;33m,\u001b[0m \u001b[0mMNW\u001b[0m\u001b[1;33m=\u001b[0m\u001b[0mMNW\u001b[0m\u001b[1;33m,\u001b[0m \u001b[0mPWV\u001b[0m\u001b[1;33m=\u001b[0m\u001b[0mPWV\u001b[0m\u001b[1;33m,\u001b[0m\u001b[0mtrainable_switch\u001b[0m\u001b[1;33m=\u001b[0m\u001b[0mtrainable_switch\u001b[0m\u001b[1;33m,\u001b[0m \u001b[0moptimizer\u001b[0m\u001b[1;33m=\u001b[0m\u001b[0moptimizer\u001b[0m\u001b[1;33m)\u001b[0m\u001b[1;33m\u001b[0m\u001b[1;33m\u001b[0m\u001b[0m\n\u001b[0;32m     29\u001b[0m \u001b[0mgrid\u001b[0m \u001b[1;33m=\u001b[0m \u001b[0mGridSearchCV\u001b[0m\u001b[1;33m(\u001b[0m\u001b[0mestimator\u001b[0m\u001b[1;33m=\u001b[0m\u001b[0mmodel\u001b[0m\u001b[1;33m,\u001b[0m \u001b[0mparam_grid\u001b[0m\u001b[1;33m=\u001b[0m\u001b[0mparam_grid\u001b[0m\u001b[1;33m,\u001b[0m \u001b[0mn_jobs\u001b[0m\u001b[1;33m=\u001b[0m\u001b[0mn_jobs\u001b[0m\u001b[1;33m,\u001b[0m \u001b[0mcv\u001b[0m\u001b[1;33m=\u001b[0m\u001b[1;36m3\u001b[0m\u001b[1;33m,\u001b[0m \u001b[0mreturn_train_score\u001b[0m\u001b[1;33m=\u001b[0m\u001b[1;32mTrue\u001b[0m\u001b[1;33m,\u001b[0m \u001b[0mverbose\u001b[0m\u001b[1;33m=\u001b[0m\u001b[1;36m5\u001b[0m\u001b[1;33m)\u001b[0m\u001b[1;33m\u001b[0m\u001b[1;33m\u001b[0m\u001b[0m\n\u001b[1;32m---> 30\u001b[1;33m \u001b[0mgrid_result\u001b[0m \u001b[1;33m=\u001b[0m \u001b[0mgrid\u001b[0m\u001b[1;33m.\u001b[0m\u001b[0mfit\u001b[0m\u001b[1;33m(\u001b[0m\u001b[0mx_train\u001b[0m\u001b[1;33m,\u001b[0m \u001b[0my_train\u001b[0m\u001b[1;33m,\u001b[0m \u001b[0mcallbacks\u001b[0m\u001b[1;33m=\u001b[0m\u001b[0mcallbacks\u001b[0m\u001b[1;33m)\u001b[0m\u001b[1;33m\u001b[0m\u001b[1;33m\u001b[0m\u001b[0m\n\u001b[0m",
      "\u001b[1;32mC:\\ProgramData\\Anaconda3\\lib\\site-packages\\sklearn\\model_selection\\_search.py\u001b[0m in \u001b[0;36mfit\u001b[1;34m(self, X, y, groups, **fit_params)\u001b[0m\n\u001b[0;32m    734\u001b[0m             \u001b[1;31m# of the params are estimators as well.\u001b[0m\u001b[1;33m\u001b[0m\u001b[1;33m\u001b[0m\u001b[1;33m\u001b[0m\u001b[0m\n\u001b[0;32m    735\u001b[0m             self.best_estimator_ = clone(clone(base_estimator).set_params(\n\u001b[1;32m--> 736\u001b[1;33m                 **self.best_params_))\n\u001b[0m\u001b[0;32m    737\u001b[0m             \u001b[0mrefit_start_time\u001b[0m \u001b[1;33m=\u001b[0m \u001b[0mtime\u001b[0m\u001b[1;33m.\u001b[0m\u001b[0mtime\u001b[0m\u001b[1;33m(\u001b[0m\u001b[1;33m)\u001b[0m\u001b[1;33m\u001b[0m\u001b[1;33m\u001b[0m\u001b[0m\n\u001b[0;32m    738\u001b[0m             \u001b[1;32mif\u001b[0m \u001b[0my\u001b[0m \u001b[1;32mis\u001b[0m \u001b[1;32mnot\u001b[0m \u001b[1;32mNone\u001b[0m\u001b[1;33m:\u001b[0m\u001b[1;33m\u001b[0m\u001b[1;33m\u001b[0m\u001b[0m\n",
      "\u001b[1;32mC:\\ProgramData\\Anaconda3\\lib\\site-packages\\sklearn\\base.py\u001b[0m in \u001b[0;36mclone\u001b[1;34m(estimator, safe)\u001b[0m\n\u001b[0;32m     80\u001b[0m             raise RuntimeError('Cannot clone object %s, as the constructor '\n\u001b[0;32m     81\u001b[0m                                \u001b[1;34m'either does not set or modifies parameter %s'\u001b[0m \u001b[1;33m%\u001b[0m\u001b[1;33m\u001b[0m\u001b[1;33m\u001b[0m\u001b[0m\n\u001b[1;32m---> 82\u001b[1;33m                                (estimator, name))\n\u001b[0m\u001b[0;32m     83\u001b[0m     \u001b[1;32mreturn\u001b[0m \u001b[0mnew_object\u001b[0m\u001b[1;33m\u001b[0m\u001b[1;33m\u001b[0m\u001b[0m\n\u001b[0;32m     84\u001b[0m \u001b[1;33m\u001b[0m\u001b[0m\n",
      "\u001b[1;31mRuntimeError\u001b[0m: Cannot clone object <tensorflow.python.keras.wrappers.scikit_learn.KerasClassifier object at 0x000001DF8CB14908>, as the constructor either does not set or modifies parameter optimizer"
     ]
    }
   ],
   "source": [
    "# define the grid search parameters\n",
    "BestModel_Name = file_name+'_EMB'\n",
    "EMB =[30,50,100,150,200,300]\n",
    "NF =[16,24,32]\n",
    "FS = [(2,3,4,5),(1,2,3,4,5),(2,3,4,5,6), (1,2,3,4,5,6), (1,3,5,7),(2,4,6,8)]\n",
    "MDL= [MAX_DOC_LEN]\n",
    "MNW= [MAX_NB_WORDS]\n",
    "\n",
    "# EMBEDDING_DIM=200\n",
    "# CBOW_W2V = processor.w2v_pretrain(EMBEDDING_DIM) # 需要train, 比较慢\n",
    "# Glove_W2V = processor.load_glove_w2v(EMBEDDING_DIM) # 需要下载, 比较慢\n",
    "# PWV = [(CBOW_W2V),(Glove_W2V),(None)]\n",
    "\n",
    "PWV = [None]\n",
    "trainable_switch = [True]\n",
    "\n",
    "sgd = optimizers.SGD(lr=0.01, decay=1e-6, momentum=0.9, nesterov=True)\n",
    "adam = optimizers.Adam(lr=1e-4)\n",
    "rmsprop = optimizers.RMSprop(lr=1e-4)\n",
    "optimizer = [sgd, 'SGD', rmsprop, 'RMSprop', 'Adagrad', 'Adadelta', adam, 'Adam', 'Adamax', 'Nadam']\n",
    "\n",
    "\n",
    "# checkpoint = ModelCheckpoint(BestModel_Name, monitor='loss', verbose=1, save_best_only=True, mode='min')\n",
    "earlyStopping = EarlyStopping(monitor='acc', patience=patience, verbose=1, mode='max') # patience: number of epochs with no improvement on monitor : val_loss\n",
    "callbacks=[earlyStopping] # unable load in the grid search part\n",
    "\n",
    "model = KerasClassifier(build_fn=model_Create, epochs=epoch, batch_size=batch_size, verbose=0)\n",
    "param_grid =dict(EMB=EMB, NF=NF, FS=FS, MDL=MDL, MNW=MNW, PWV=PWV,trainable_switch=trainable_switch, optimizer=optimizer) \n",
    "grid = GridSearchCV(estimator=model, param_grid=param_grid, n_jobs=n_jobs, cv=3, return_train_score=True, verbose=5)\n",
    "grid_result = grid.fit(x_train, y_train)"
   ]
  },
  {
   "cell_type": "code",
   "execution_count": 33,
   "metadata": {},
   "outputs": [
    {
     "data": {
      "text/plain": [
       "0.8322755098342896"
      ]
     },
     "execution_count": 33,
     "metadata": {},
     "output_type": "execute_result"
    }
   ],
   "source": [
    "grid.best_score_"
   ]
  },
  {
   "cell_type": "code",
   "execution_count": 31,
   "metadata": {
    "ExecuteTime": {
     "end_time": "2020-05-05T07:53:04.346577Z",
     "start_time": "2020-05-05T07:53:03.861461Z"
    }
   },
   "outputs": [
    {
     "name": "stdout",
     "output_type": "stream",
     "text": [
      "{'EMB': 200, 'FS': (2, 3, 4, 5, 6), 'MDL': 23, 'MNW': 2880, 'NF': 16, 'PWV': None, 'optimizer': <tensorflow.python.keras.optimizer_v2.rmsprop.RMSprop object at 0x000001DF8C7B0808>, 'trainable_switch': True}\n"
     ]
    }
   ],
   "source": [
    "print(grid.best_params_)\n",
    "# Best_model_report(grid_result, to_file=BestModel_Name+'_GS.xlsx')"
   ]
  },
  {
   "cell_type": "code",
   "execution_count": 36,
   "metadata": {},
   "outputs": [
    {
     "data": {
      "text/plain": [
       "{'EMB': [30, 50, 100, 150, 200, 300],\n",
       " 'NF': [16, 24, 32],\n",
       " 'FS': [(2, 3, 4, 5),\n",
       "  (1, 2, 3, 4, 5),\n",
       "  (2, 3, 4, 5, 6),\n",
       "  (1, 2, 3, 4, 5, 6),\n",
       "  (1, 3, 5, 7),\n",
       "  (2, 4, 6, 8)],\n",
       " 'MDL': [23],\n",
       " 'MNW': [2880],\n",
       " 'PWV': [None],\n",
       " 'trainable_switch': [True],\n",
       " 'optimizer': [<tensorflow.python.keras.optimizer_v2.gradient_descent.SGD at 0x1df8c7b0988>,\n",
       "  'SGD',\n",
       "  <tensorflow.python.keras.optimizer_v2.rmsprop.RMSprop at 0x1df8c7b0808>,\n",
       "  'RMSprop',\n",
       "  'Adagrad',\n",
       "  'Adadelta',\n",
       "  <tensorflow.python.keras.optimizer_v2.adam.Adam at 0x1df8c7b0c48>,\n",
       "  'Adam',\n",
       "  'Adamax',\n",
       "  'Nadam']}"
      ]
     },
     "execution_count": 36,
     "metadata": {},
     "output_type": "execute_result"
    }
   ],
   "source": [
    "grid.param_grid"
   ]
  },
  {
   "cell_type": "code",
   "execution_count": 44,
   "metadata": {
    "scrolled": true
   },
   "outputs": [
    {
     "data": {
      "text/plain": [
       "GridSearchCV(cv=3, error_score=nan,\n",
       "             estimator=<tensorflow.python.keras.wrappers.scikit_learn.KerasClassifier object at 0x000001DF8C7B0648>,\n",
       "             iid='deprecated', n_jobs=7,\n",
       "             param_grid={'EMB': [30, 50, 100, 150, 200, 300],\n",
       "                         'FS': [(2, 3, 4, 5), (1, 2, 3, 4, 5), (2, 3, 4, 5, 6),\n",
       "                                (1, 2, 3, 4, 5, 6), (1, 3, 5, 7),\n",
       "                                (2, 4, 6, 8)],\n",
       "                         'MDL': [23], 'MNW': [2880], 'NF': [16, 24, 32],\n",
       "                         'PWV': [None],\n",
       "                         'optimizer': [<tensor...t at 0x000001DF8C7B0988>,\n",
       "                                       'SGD',\n",
       "                                       <tensorflow.python.keras.optimizer_v2.rmsprop.RMSprop object at 0x000001DF8C7B0808>,\n",
       "                                       'RMSprop', 'Adagrad', 'Adadelta',\n",
       "                                       <tensorflow.python.keras.optimizer_v2.adam.Adam object at 0x000001DF8C7B0C48>,\n",
       "                                       'Adam', 'Adamax', 'Nadam'],\n",
       "                         'trainable_switch': [True]},\n",
       "             pre_dispatch='2*n_jobs', refit=True, return_train_score=True,\n",
       "             scoring=None, verbose=5)"
      ]
     },
     "execution_count": 44,
     "metadata": {},
     "output_type": "execute_result"
    }
   ],
   "source": [
    "grid"
   ]
  },
  {
   "cell_type": "code",
   "execution_count": 32,
   "metadata": {},
   "outputs": [
    {
     "data": {
      "text/plain": [
       "{'scoring': None,\n",
       " 'estimator': <tensorflow.python.keras.wrappers.scikit_learn.KerasClassifier at 0x1df8c7b0648>,\n",
       " 'n_jobs': 7,\n",
       " 'iid': 'deprecated',\n",
       " 'refit': True,\n",
       " 'cv': 3,\n",
       " 'verbose': 5,\n",
       " 'pre_dispatch': '2*n_jobs',\n",
       " 'error_score': nan,\n",
       " 'return_train_score': True,\n",
       " 'param_grid': {'EMB': [30, 50, 100, 150, 200, 300],\n",
       "  'NF': [16, 24, 32],\n",
       "  'FS': [(2, 3, 4, 5),\n",
       "   (1, 2, 3, 4, 5),\n",
       "   (2, 3, 4, 5, 6),\n",
       "   (1, 2, 3, 4, 5, 6),\n",
       "   (1, 3, 5, 7),\n",
       "   (2, 4, 6, 8)],\n",
       "  'MDL': [23],\n",
       "  'MNW': [2880],\n",
       "  'PWV': [None],\n",
       "  'trainable_switch': [True],\n",
       "  'optimizer': [<tensorflow.python.keras.optimizer_v2.gradient_descent.SGD at 0x1df8c7b0988>,\n",
       "   'SGD',\n",
       "   <tensorflow.python.keras.optimizer_v2.rmsprop.RMSprop at 0x1df8c7b0808>,\n",
       "   'RMSprop',\n",
       "   'Adagrad',\n",
       "   'Adadelta',\n",
       "   <tensorflow.python.keras.optimizer_v2.adam.Adam at 0x1df8c7b0c48>,\n",
       "   'Adam',\n",
       "   'Adamax',\n",
       "   'Nadam']},\n",
       " 'multimetric_': False,\n",
       " 'best_index_': 782,\n",
       " 'best_score_': 0.8322755098342896,\n",
       " 'best_params_': {'EMB': 200,\n",
       "  'FS': (2, 3, 4, 5, 6),\n",
       "  'MDL': 23,\n",
       "  'MNW': 2880,\n",
       "  'NF': 16,\n",
       "  'PWV': None,\n",
       "  'optimizer': <tensorflow.python.keras.optimizer_v2.rmsprop.RMSprop at 0x1df8c7b0808>,\n",
       "  'trainable_switch': True}}"
      ]
     },
     "execution_count": 32,
     "metadata": {},
     "output_type": "execute_result"
    }
   ],
   "source": [
    "vars(grid)"
   ]
  },
  {
   "cell_type": "code",
   "execution_count": null,
   "metadata": {},
   "outputs": [],
   "source": []
  },
  {
   "cell_type": "markdown",
   "metadata": {
    "ExecuteTime": {
     "end_time": "2020-05-03T21:50:22.581919Z",
     "start_time": "2020-05-03T21:50:22.579918Z"
    }
   },
   "source": [
    "# GS - optimizer"
   ]
  },
  {
   "cell_type": "code",
   "execution_count": null,
   "metadata": {
    "ExecuteTime": {
     "end_time": "2020-05-05T07:53:03.860483Z",
     "start_time": "2020-05-05T07:52:52.844056Z"
    },
    "scrolled": true
   },
   "outputs": [],
   "source": [
    "# define the grid search parameters\n",
    "BestModel_Name = file_name + '_Optimizer'\n",
    "EMB =[20]\n",
    "NF =[32]\n",
    "FS = [(2,3,4)]\n",
    "MDL= [MAX_DOC_LEN]\n",
    "MNW= [MAX_NB_WORDS]\n",
    "PWV = [None]\n",
    "trainable_switch = [True]\n",
    "\n",
    "\n",
    "sgd = optimizers.SGD(lr=0.01, decay=1e-6, momentum=0.9, nesterov=True)\n",
    "adam = optimizers.Adam(lr=1e-4)\n",
    "rmsprop = optimizers.RMSprop(lr=1e-4)\n",
    "optimizer = [sgd, 'SGD', rmsprop, 'RMSprop', 'Adagrad', 'Adadelta', adam, 'Adam', 'Adamax', 'Nadam']\n",
    "\n",
    "\n",
    "# checkpoint = ModelCheckpoint(BestModel_Name, monitor='loss', verbose=1, save_best_only=True, mode='min')\n",
    "earlyStopping = EarlyStopping(monitor='acc', patience=patience, verbose=1, mode='max') # patience: number of epochs with no improvement on monitor : val_loss\n",
    "callbacks=[earlyStopping] # unable load in the grid search part\n",
    "\n",
    "model = KerasClassifier(build_fn=model_Create, epochs=epoch, batch_size=batch_size, verbose=0)\n",
    "param_grid =dict(EMB=EMB, NF=NF, FS=FS, MDL=MDL, MNW=MNW, PWV=PWV,trainable_switch=trainable_switch, optimizer=optimizer) \n",
    "grid = GridSearchCV(estimator=model, param_grid=param_grid, n_jobs=n_jobs, cv=3, return_train_score=True, verbose=5)\n",
    "grid_result = grid.fit(x_train, y_train, callbacks=callbacks) "
   ]
  },
  {
   "cell_type": "markdown",
   "metadata": {},
   "source": [
    "## Grid result & Best model report"
   ]
  },
  {
   "cell_type": "code",
   "execution_count": null,
   "metadata": {},
   "outputs": [],
   "source": [
    "print(grid.best_params_)\n",
    "# Best_model_report(grid_result, to_file=BestModel_Name+'_GS.xlsx')"
   ]
  },
  {
   "cell_type": "markdown",
   "metadata": {
    "ExecuteTime": {
     "start_time": "2020-05-04T01:19:55.230Z"
    },
    "scrolled": true
   },
   "source": [
    "## Optimizer = RMSprop, adam(lr=0.0001)"
   ]
  },
  {
   "cell_type": "code",
   "execution_count": null,
   "metadata": {},
   "outputs": [],
   "source": []
  },
  {
   "cell_type": "markdown",
   "metadata": {
    "ExecuteTime": {
     "end_time": "2020-05-03T21:50:22.581919Z",
     "start_time": "2020-05-03T21:50:22.579918Z"
    }
   },
   "source": [
    "# GS - Filter size "
   ]
  },
  {
   "cell_type": "code",
   "execution_count": null,
   "metadata": {
    "ExecuteTime": {
     "end_time": "2020-05-05T07:53:13.382424Z",
     "start_time": "2020-05-05T07:53:04.347577Z"
    },
    "scrolled": true
   },
   "outputs": [],
   "source": [
    "# define the grid search parameters\n",
    "\n",
    "BestModel_Name =  file_name + '_Filtersize'\n",
    "EMB =[100]\n",
    "NF =[32]\n",
    "FS = [(2,3,4,5),(1,2,3,4,5),(2,3,4,5,6), (1,2,3,4,5,6), (1,3,5,7),(2,4,6,8)]\n",
    "MDL= [MAX_DOC_LEN]\n",
    "MNW= [MAX_NB_WORDS]\n",
    "PWV = [None]\n",
    "trainable_switch = [True]\n",
    "optimizer = ['RMSprop']\n",
    "# optimizer = ['SGD', 'RMSprop', 'Adagrad', 'Adadelta', 'Adam', 'Adamax', 'Nadam']\n",
    "\n",
    "\n",
    "# checkpoint = ModelCheckpoint(BestModel_Name, monitor='loss', verbose=1, save_best_only=True, mode='min')\n",
    "earlyStopping = EarlyStopping(monitor='acc', patience=patience, verbose=1, mode='max') # patience: number of epochs with no improvement on monitor : val_loss\n",
    "callbacks=[earlyStopping] # unable load in the grid search part\n",
    "\n",
    "model = KerasClassifier(build_fn=model_Create, epochs=epoch, batch_size=batch_size, verbose=0)\n",
    "param_grid =dict(EMB=EMB, NF=NF, FS=FS, MDL=MDL, MNW=MNW, PWV=PWV,trainable_switch=trainable_switch, optimizer=optimizer) \n",
    "grid = GridSearchCV(estimator=model, param_grid=param_grid, n_jobs=n_jobs, cv=3, return_train_score=True, verbose=5)\n",
    "grid_result = grid.fit(x_train, y_train, callbacks=callbacks) "
   ]
  },
  {
   "cell_type": "markdown",
   "metadata": {},
   "source": [
    "## Grid result & Best model report"
   ]
  },
  {
   "cell_type": "code",
   "execution_count": null,
   "metadata": {
    "ExecuteTime": {
     "end_time": "2020-05-05T07:53:13.427745Z",
     "start_time": "2020-05-05T07:53:13.384424Z"
    }
   },
   "outputs": [],
   "source": [
    "print(grid_result.best_params_)\n",
    "Best_model_report(grid_result, to_file=BestModel_Name+'_GS.xlsx')"
   ]
  },
  {
   "cell_type": "markdown",
   "metadata": {
    "ExecuteTime": {
     "end_time": "2020-05-04T01:55:08.950555Z",
     "start_time": "2020-05-04T01:55:08.937338Z"
    }
   },
   "source": [
    "## Filter size = [2,3,4,5], [2,3,4,5,6]"
   ]
  },
  {
   "cell_type": "markdown",
   "metadata": {
    "ExecuteTime": {
     "end_time": "2020-05-03T21:50:22.581919Z",
     "start_time": "2020-05-03T21:50:22.579918Z"
    }
   },
   "source": [
    "# GS - Embed dimension "
   ]
  },
  {
   "cell_type": "code",
   "execution_count": null,
   "metadata": {
    "ExecuteTime": {
     "end_time": "2020-05-05T07:53:23.611947Z",
     "start_time": "2020-05-05T07:53:13.429745Z"
    },
    "scrolled": true
   },
   "outputs": [],
   "source": [
    "# define the grid search parameters\n",
    "BestModel_Name = file_name+'_EMB'\n",
    "EMB =[30,50,100,150,200,300]\n",
    "NF =[32]\n",
    "FS = [(2,3,4,5)]\n",
    "MDL= [MAX_DOC_LEN]\n",
    "MNW= [MAX_NB_WORDS]\n",
    "PWV = [None]\n",
    "trainable_switch = [True]\n",
    "optimizer = ['RMSprop']\n",
    "# optimizer = ['SGD', 'RMSprop', 'Adagrad', 'Adadelta', 'Adam', 'Adamax', 'Nadam']\n",
    "\n",
    "\n",
    "# checkpoint = ModelCheckpoint(BestModel_Name, monitor='loss', verbose=1, save_best_only=True, mode='min')\n",
    "earlyStopping = EarlyStopping(monitor='acc', patience=patience, verbose=1, mode='max') # patience: number of epochs with no improvement on monitor : val_loss\n",
    "callbacks=[earlyStopping] # unable load in the grid search part\n",
    "\n",
    "model = KerasClassifier(build_fn=model_Create, epochs=epoch, batch_size=batch_size, verbose=0)\n",
    "param_grid =dict(EMB=EMB, NF=NF, FS=FS, MDL=MDL, MNW=MNW, PWV=PWV,trainable_switch=trainable_switch, optimizer=optimizer) \n",
    "grid = GridSearchCV(estimator=model, param_grid=param_grid, n_jobs=n_jobs, cv=3, return_train_score=True, verbose=5)\n",
    "grid_result = grid.fit(x_train, y_train, callbacks=callbacks) "
   ]
  },
  {
   "cell_type": "markdown",
   "metadata": {},
   "source": [
    "## Grid result & Best model report"
   ]
  },
  {
   "cell_type": "code",
   "execution_count": null,
   "metadata": {
    "ExecuteTime": {
     "end_time": "2020-05-05T07:53:23.662081Z",
     "start_time": "2020-05-05T07:53:23.614948Z"
    }
   },
   "outputs": [],
   "source": [
    "print(grid_result.best_params_)\n",
    "Best_model_report(grid_result, to_file=BestModel_Name+'_GS.xlsx')"
   ]
  },
  {
   "cell_type": "markdown",
   "metadata": {},
   "source": [
    "## Embed dimension = [150, 200]"
   ]
  },
  {
   "cell_type": "markdown",
   "metadata": {
    "ExecuteTime": {
     "end_time": "2020-05-03T21:50:22.581919Z",
     "start_time": "2020-05-03T21:50:22.579918Z"
    }
   },
   "source": [
    "# GS - pretrained W2V + Trainable\n",
    "- from before, <font color=red>EMB = 200 </font>is enough.\n",
    "- gensim params:\n",
    "            - wv_model = word2vec.Word2Vec(sentences=self.corpus, min_count=1, seed=1, cbow_mean=1,\n",
    "                             size=EMBEDDING_DIM, negative=5, window=5, iter=30,\n",
    "                             workers=8)  # Based on tokens in all sentences, training the W2V # sg = 1 is skipgram\n"
   ]
  },
  {
   "cell_type": "code",
   "execution_count": null,
   "metadata": {
    "ExecuteTime": {
     "end_time": "2020-05-05T07:56:17.594737Z",
     "start_time": "2020-05-05T07:54:29.641709Z"
    },
    "scrolled": true
   },
   "outputs": [],
   "source": [
    "# define the grid search parameters\n",
    "# patience = 8\n",
    "# epoch = 10\n",
    "# batch_size = 64\n",
    "# n_jobs = 1\n",
    "\n",
    "BestModel_Name = file_name+ 'non_trainable_EMB'\n",
    "EMB =[200]\n",
    "NF =[32]\n",
    "FS = [(2,3,4,5)]\n",
    "MDL= [MAX_DOC_LEN]\n",
    "MNW= [MAX_NB_WORDS]\n",
    "\n",
    "EMBEDDING_DIM=200\n",
    "CBOW_W2V = processor.w2v_pretrain(EMBEDDING_DIM) # 需要train, 比较慢\n",
    "Glove_W2V = processor.load_glove_w2v(EMBEDDING_DIM) # 需要下载, 比较慢\n",
    "PWV = [(CBOW_W2V),(Glove_W2V),(None)]\n",
    "trainable_switch = [(True),(False)]\n",
    "optimizer = ['RMSprop']\n",
    "# optimizer = ['SGD', 'RMSprop', 'Adagrad', 'Adadelta', 'Adam', 'Adamax', 'Nadam']\n",
    "# checkpoint = ModelCheckpoint(BestModel_Name, monitor='loss', verbose=1, save_best_only=True, mode='min')\n",
    "earlyStopping = EarlyStopping(monitor='acc', patience=patience, verbose=1, mode='max') # patience: number of epochs with no improvement on monitor : val_loss\n",
    "callbacks=[earlyStopping] # unable load in the grid search part\n",
    "\n",
    "model = KerasClassifier(build_fn=model_Create, epochs=epoch, batch_size=batch_size, verbose=0)\n",
    "param_grid =dict(EMB=EMB, NF=NF, FS=FS, MDL=MDL, MNW=MNW, PWV=PWV,trainable_switch=trainable_switch, optimizer=optimizer) \n",
    "grid = GridSearchCV(estimator=model, param_grid=param_grid, n_jobs=n_jobs, cv=3, return_train_score=True, verbose=5)\n",
    "grid_result = grid.fit(x_train, y_train, callbacks=callbacks) "
   ]
  },
  {
   "cell_type": "markdown",
   "metadata": {},
   "source": [
    "## Grid result & Best model report"
   ]
  },
  {
   "cell_type": "code",
   "execution_count": null,
   "metadata": {
    "ExecuteTime": {
     "end_time": "2020-05-05T07:54:23.077852Z",
     "start_time": "2020-05-05T07:52:49.321Z"
    }
   },
   "outputs": [],
   "source": [
    "print(grid_result.best_params_)\n",
    "Best_model_report(grid_result, to_file=BestModel_Name+'_GS.xlsx')"
   ]
  },
  {
   "cell_type": "code",
   "execution_count": null,
   "metadata": {},
   "outputs": [],
   "source": []
  },
  {
   "cell_type": "code",
   "execution_count": null,
   "metadata": {},
   "outputs": [],
   "source": []
  },
  {
   "cell_type": "code",
   "execution_count": null,
   "metadata": {},
   "outputs": [],
   "source": []
  },
  {
   "cell_type": "code",
   "execution_count": null,
   "metadata": {},
   "outputs": [],
   "source": []
  },
  {
   "cell_type": "markdown",
   "metadata": {},
   "source": [
    "# Best Parameters Classification result\n",
    "- <font color = red>The parameters pass later</font>\n",
    "- !!!!!"
   ]
  },
  {
   "cell_type": "code",
   "execution_count": 27,
   "metadata": {
    "ExecuteTime": {
     "end_time": "2020-05-10T06:19:55.643027Z",
     "start_time": "2020-05-10T06:17:37.639026Z"
    },
    "scrolled": true
   },
   "outputs": [
    {
     "name": "stdout",
     "output_type": "stream",
     "text": [
      "Train on 19789 samples, validate on 4948 samples\n",
      "Epoch 1/20\n",
      "19789/19789 - 9s - loss: 0.9251 - acc: 0.5961 - val_loss: 0.7934 - val_acc: 0.6960\n",
      "Epoch 2/20\n",
      "19789/19789 - 8s - loss: 0.6858 - acc: 0.7448 - val_loss: 0.5570 - val_acc: 0.7916\n",
      "Epoch 3/20\n",
      "19789/19789 - 9s - loss: 0.5135 - acc: 0.8135 - val_loss: 0.4819 - val_acc: 0.8161\n",
      "Epoch 4/20\n",
      "19789/19789 - 9s - loss: 0.4401 - acc: 0.8393 - val_loss: 0.4575 - val_acc: 0.8244\n",
      "Epoch 5/20\n",
      "19789/19789 - 9s - loss: 0.3944 - acc: 0.8584 - val_loss: 0.4497 - val_acc: 0.8286\n",
      "Epoch 6/20\n",
      "19789/19789 - 8s - loss: 0.3675 - acc: 0.8692 - val_loss: 0.4482 - val_acc: 0.8321\n",
      "Epoch 7/20\n",
      "19789/19789 - 9s - loss: 0.3394 - acc: 0.8814 - val_loss: 0.4536 - val_acc: 0.8300\n",
      "Epoch 8/20\n",
      "19789/19789 - 8s - loss: 0.3194 - acc: 0.8900 - val_loss: 0.4598 - val_acc: 0.8319\n",
      "Epoch 9/20\n",
      "19789/19789 - 9s - loss: 0.3017 - acc: 0.8955 - val_loss: 0.4655 - val_acc: 0.8254\n",
      "Epoch 10/20\n",
      "19789/19789 - 9s - loss: 0.2820 - acc: 0.9041 - val_loss: 0.4736 - val_acc: 0.8284\n",
      "Epoch 11/20\n",
      "19789/19789 - 9s - loss: 0.2690 - acc: 0.9098 - val_loss: 0.4890 - val_acc: 0.8260\n",
      "Epoch 12/20\n",
      "19789/19789 - 8s - loss: 0.2528 - acc: 0.9143 - val_loss: 0.5024 - val_acc: 0.8252\n",
      "Epoch 13/20\n",
      "19789/19789 - 8s - loss: 0.2371 - acc: 0.9230 - val_loss: 0.5169 - val_acc: 0.8258\n",
      "Epoch 14/20\n",
      "19789/19789 - 8s - loss: 0.2245 - acc: 0.9257 - val_loss: 0.5320 - val_acc: 0.8240\n",
      "Epoch 15/20\n",
      "19789/19789 - 8s - loss: 0.2125 - acc: 0.9299 - val_loss: 0.5442 - val_acc: 0.8248\n",
      "Epoch 16/20\n",
      "19789/19789 - 8s - loss: 0.2010 - acc: 0.9334 - val_loss: 0.5570 - val_acc: 0.8222\n",
      "Epoch 00016: early stopping\n",
      "========================================================================\n",
      "loss val_loss\n"
     ]
    },
    {
     "data": {
      "image/png": "[encoded data removed]",
      "text/plain": [
       "<Figure size 432x288 with 1 Axes>"
      ]
     },
     "metadata": {
      "needs_background": "light"
     },
     "output_type": "display_data"
    },
    {
     "name": "stdout",
     "output_type": "stream",
     "text": [
      "========================================================================\n",
      "acc val_acc\n"
     ]
    },
    {
     "data": {
      "image/png": "[encoded data removed]",
      "text/plain": [
       "<Figure size 432x288 with 1 Axes>"
      ]
     },
     "metadata": {
      "needs_background": "light"
     },
     "output_type": "display_data"
    },
    {
     "name": "stdout",
     "output_type": "stream",
     "text": [
      "              precision    recall  f1-score   support\n",
      "\n",
      "           0       0.90      0.78      0.84       857\n",
      "           1       0.82      0.83      0.83      1112\n",
      "           2       0.80      0.78      0.79       780\n",
      "\n",
      "   micro avg       0.84      0.80      0.82      2749\n",
      "   macro avg       0.84      0.80      0.82      2749\n",
      "weighted avg       0.84      0.80      0.82      2749\n",
      " samples avg       0.80      0.80      0.80      2749\n",
      "\n",
      "2749/2749 - 0s - loss: 0.4619 - acc: 0.8214\n",
      "acc: 82.14%\n",
      "\n",
      "\n",
      "\n",
      "\n"
     ]
    },
    {
     "name": "stderr",
     "output_type": "stream",
     "text": [
      "C:\\Users\\Administrator\\Anaconda3\\envs\\py810\\lib\\site-packages\\sklearn\\metrics\\_classification.py:1272: UndefinedMetricWarning: Precision and F-score are ill-defined and being set to 0.0 in samples with no predicted labels. Use `zero_division` parameter to control this behavior.\n",
      "  _warn_prf(average, modifier, msg_start, len(result))\n"
     ]
    }
   ],
   "source": [
    "BestModel_Name = file_name+ 'Best_GS'\n",
    "\n",
    "############# Set hyper parameters\n",
    "FILTER_SIZES=[2,3,4,5,6]\n",
    "NUM_FILTERS=16\n",
    "EMBEDDING_DIM = 200\n",
    "BATCH_SIZE=64\n",
    "NUM_EPOCHES=20 # patience=20\n",
    "# CBOW_W2V = processor.w2v_pretrain(EMBEDDING_DIM) # 需要train, 比较慢\n",
    "# Glove_W2V = processor.load_glove_w2v(EMBEDDING_DIM) # 需要下载, 比较慢\n",
    "OPT = optimizers.Adam(lr=1e-4)\n",
    "trainable_switch=True\n",
    "\n",
    "model = model_Create(FS=FILTER_SIZES, NF=NUM_FILTERS, MDL=MAX_DOC_LEN,MNW=MAX_NB_WORDS, EMB=EMBEDDING_DIM, PWV = None, trainable_switch=trainable_switch, optimizer=OPT, patience=10  )\n",
    "model_best_1_pred = train_model(model, x_train, y_train, x_test, y_test, BATCH_SIZE, NUM_EPOCHES, BestModel_Name=BestModel_Name)\n"
   ]
  },
  {
   "cell_type": "code",
   "execution_count": 28,
   "metadata": {
    "ExecuteTime": {
     "end_time": "2020-05-10T06:36:44.138374Z",
     "start_time": "2020-05-10T06:34:49.845161Z"
    }
   },
   "outputs": [
    {
     "name": "stdout",
     "output_type": "stream",
     "text": [
      "Train on 19789 samples, validate on 4948 samples\n",
      "Epoch 1/20\n",
      "19789/19789 - 8s - loss: 0.9703 - acc: 0.5661 - val_loss: 0.8481 - val_acc: 0.6582\n",
      "Epoch 2/20\n",
      "19789/19789 - 8s - loss: 0.7763 - acc: 0.6945 - val_loss: 0.6538 - val_acc: 0.7561\n",
      "Epoch 3/20\n",
      "19789/19789 - 8s - loss: 0.5834 - acc: 0.7869 - val_loss: 0.5165 - val_acc: 0.8030\n",
      "Epoch 4/20\n",
      "19789/19789 - 7s - loss: 0.4761 - acc: 0.8245 - val_loss: 0.4744 - val_acc: 0.8131\n",
      "Epoch 5/20\n",
      "19789/19789 - 7s - loss: 0.4253 - acc: 0.8455 - val_loss: 0.4549 - val_acc: 0.8209\n",
      "Epoch 6/20\n",
      "19789/19789 - 7s - loss: 0.3911 - acc: 0.8580 - val_loss: 0.4479 - val_acc: 0.8262\n",
      "Epoch 7/20\n",
      "19789/19789 - 7s - loss: 0.3658 - acc: 0.8673 - val_loss: 0.4494 - val_acc: 0.8268\n",
      "Epoch 8/20\n",
      "19789/19789 - 7s - loss: 0.3417 - acc: 0.8787 - val_loss: 0.4488 - val_acc: 0.8272\n",
      "Epoch 9/20\n",
      "19789/19789 - 7s - loss: 0.3225 - acc: 0.8857 - val_loss: 0.4511 - val_acc: 0.8306\n",
      "Epoch 10/20\n",
      "19789/19789 - 6s - loss: 0.3081 - acc: 0.8923 - val_loss: 0.4558 - val_acc: 0.8310\n",
      "Epoch 11/20\n",
      "19789/19789 - 7s - loss: 0.2914 - acc: 0.8997 - val_loss: 0.4649 - val_acc: 0.8321\n",
      "Epoch 12/20\n",
      "19789/19789 - 7s - loss: 0.2789 - acc: 0.9035 - val_loss: 0.4698 - val_acc: 0.8286\n",
      "Epoch 13/20\n",
      "19789/19789 - 7s - loss: 0.2660 - acc: 0.9082 - val_loss: 0.4789 - val_acc: 0.8294\n",
      "Epoch 14/20\n",
      "19789/19789 - 7s - loss: 0.2541 - acc: 0.9142 - val_loss: 0.4860 - val_acc: 0.8286\n",
      "Epoch 15/20\n",
      "19789/19789 - 7s - loss: 0.2393 - acc: 0.9186 - val_loss: 0.5004 - val_acc: 0.8284\n",
      "Epoch 16/20\n",
      "19789/19789 - 7s - loss: 0.2293 - acc: 0.9236 - val_loss: 0.5132 - val_acc: 0.8270\n",
      "Epoch 00016: early stopping\n",
      "========================================================================\n",
      "loss val_loss\n"
     ]
    },
    {
     "data": {
      "image/png": "[encoded data removed]",
      "text/plain": [
       "<Figure size 432x288 with 1 Axes>"
      ]
     },
     "metadata": {
      "needs_background": "light"
     },
     "output_type": "display_data"
    },
    {
     "name": "stdout",
     "output_type": "stream",
     "text": [
      "========================================================================\n",
      "acc val_acc\n"
     ]
    },
    {
     "data": {
      "image/png": "[encoded data removed]",
      "text/plain": [
       "<Figure size 432x288 with 1 Axes>"
      ]
     },
     "metadata": {
      "needs_background": "light"
     },
     "output_type": "display_data"
    },
    {
     "name": "stderr",
     "output_type": "stream",
     "text": [
      "C:\\Users\\Administrator\\Anaconda3\\envs\\py810\\lib\\site-packages\\sklearn\\metrics\\_classification.py:1272: UndefinedMetricWarning: Precision and F-score are ill-defined and being set to 0.0 in samples with no predicted labels. Use `zero_division` parameter to control this behavior.\n",
      "  _warn_prf(average, modifier, msg_start, len(result))\n"
     ]
    },
    {
     "name": "stdout",
     "output_type": "stream",
     "text": [
      "              precision    recall  f1-score   support\n",
      "\n",
      "           0       0.90      0.78      0.83       857\n",
      "           1       0.82      0.85      0.83      1112\n",
      "           2       0.82      0.76      0.79       780\n",
      "\n",
      "   micro avg       0.84      0.80      0.82      2749\n",
      "   macro avg       0.84      0.79      0.82      2749\n",
      "weighted avg       0.84      0.80      0.82      2749\n",
      " samples avg       0.80      0.80      0.80      2749\n",
      "\n",
      "2749/2749 - 0s - loss: 0.4646 - acc: 0.8232\n",
      "acc: 82.32%\n",
      "\n",
      "\n",
      "\n",
      "\n"
     ]
    }
   ],
   "source": [
    "BestModel_Name =  file_name + 'Best_GS_2'\n",
    "\n",
    "############# Set hyper parameters\n",
    "FILTER_SIZES= (2, 3, 4, 5)\n",
    "NUM_FILTERS=32\n",
    "EMBEDDING_DIM = 200\n",
    "BATCH_SIZE=64\n",
    "NUM_EPOCHES=20 # patience=20\n",
    "# CBOW_W2V = processor.w2v_pretrain(EMBEDDING_DIM) # 需要train, 比较慢\n",
    "# Glove_W2V = processor.load_glove_w2v(EMBEDDING_DIM) # 需要下载, 比较慢\n",
    "OPT = optimizers.Adam(lr=1e-4)\n",
    "trainable_switch=True\n",
    "\n",
    "\n",
    "model = model_Create(FS=FILTER_SIZES, NF=NUM_FILTERS, MDL=MAX_DOC_LEN,MNW=MAX_NB_WORDS, EMB=EMBEDDING_DIM, PWV = None, trainable_switch=trainable_switch, optimizer=OPT )\n",
    "model_best_2_pred = train_model(model, x_train, y_train, x_test, y_test, BATCH_SIZE, NUM_EPOCHES, BestModel_Name=BestModel_Name)\n"
   ]
  },
  {
   "cell_type": "code",
   "execution_count": null,
   "metadata": {},
   "outputs": [],
   "source": []
  },
  {
   "cell_type": "code",
   "execution_count": null,
   "metadata": {},
   "outputs": [],
   "source": []
  }
 ],
 "metadata": {
  "kernelspec": {
   "display_name": "Python 3",
   "language": "python",
   "name": "python3"
  },
  "language_info": {
   "codemirror_mode": {
    "name": "ipython",
    "version": 3
   },
   "file_extension": ".py",
   "mimetype": "text/x-python",
   "name": "python",
   "nbconvert_exporter": "python",
   "pygments_lexer": "ipython3",
   "version": "3.7.6"
  },
  "toc": {
   "base_numbering": 1,
   "nav_menu": {},
   "number_sections": true,
   "sideBar": true,
   "skip_h1_title": false,
   "title_cell": "Table of Contents",
   "title_sidebar": "Contents",
   "toc_cell": false,
   "toc_position": {
    "height": "calc(100% - 180px)",
    "left": "10px",
    "top": "150px",
    "width": "393.719px"
   },
   "toc_section_display": true,
   "toc_window_display": true
  }
 },
 "nbformat": 4,
 "nbformat_minor": 4
}
